{
 "cells": [
  {
   "cell_type": "markdown",
   "metadata": {},
   "source": [
    "# Les 6: the word embedding game"
   ]
  },
  {
   "cell_type": "code",
   "execution_count": 1,
   "metadata": {},
   "outputs": [],
   "source": [
    "path_to_glove_file = \"subset_lower_glove.42B.300d.txt\"\n",
    "\n",
    "# Lees de embeddings in:\n"
   ]
  },
  {
   "cell_type": "code",
   "execution_count": 2,
   "metadata": {},
   "outputs": [],
   "source": [
    "import numpy as np\n",
    "from numpy.linalg import norm\n",
    "\n",
    "def cosine_similarity(v1,v2):\n",
    "    return np.dot(v1,v2)/(norm(v1)*norm(v2))"
   ]
  },
  {
   "cell_type": "code",
   "execution_count": 3,
   "metadata": {},
   "outputs": [],
   "source": [
    "def posities_tov_woord(te_vinden_woord):\n",
    "    # Vul aan!"
   ]
  },
  {
   "cell_type": "code",
   "execution_count": 4,
   "metadata": {},
   "outputs": [
    {
     "name": "stdout",
     "output_type": "stream",
     "text": [
      "289\n",
      "31\n",
      "0\n",
      "449\n",
      "6614\n",
      "32\n",
      "8510\n",
      "1757\n",
      "1561\n",
      "553\n"
     ]
    }
   ],
   "source": [
    "woord = \"chicken\"\n",
    "wma = posities_tov_woord(woord)\n",
    "\n",
    "print(wma['bird'])\n",
    "print(wma['poultry'])\n",
    "print(wma['chicken'])\n",
    "print(wma['farm'])\n",
    "print(wma['alien'])\n",
    "print(wma['egg'])\n",
    "print(wma['clock'])\n",
    "print(wma['shark'])\n",
    "print(wma['robot'])\n",
    "print(wma['rooster'])"
   ]
  },
  {
   "cell_type": "code",
   "execution_count": null,
   "metadata": {},
   "outputs": [],
   "source": []
  }
 ],
 "metadata": {
  "kernelspec": {
   "display_name": "Python 3",
   "language": "python",
   "name": "python3"
  },
  "language_info": {
   "codemirror_mode": {
    "name": "ipython",
    "version": 3
   },
   "file_extension": ".py",
   "mimetype": "text/x-python",
   "name": "python",
   "nbconvert_exporter": "python",
   "pygments_lexer": "ipython3",
   "version": "3.11.0"
  }
 },
 "nbformat": 4,
 "nbformat_minor": 2
}
